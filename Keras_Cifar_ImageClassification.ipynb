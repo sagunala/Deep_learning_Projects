{
  "nbformat": 4,
  "nbformat_minor": 0,
  "metadata": {
    "accelerator": "GPU",
    "colab": {
      "name": "Keras_Cifar_ImageClassification.ipynb",
      "provenance": [],
      "collapsed_sections": []
    },
    "kernelspec": {
      "display_name": "Python 3",
      "name": "python3"
    },
    "language_info": {
      "name": "python"
    }
  },
  "cells": [
    {
      "cell_type": "code",
      "metadata": {
        "id": "tRYdMK92T1Za"
      },
      "source": [
        "import tensorflow as tf\n",
        "from tensorflow import keras\n",
        "from tensorflow.keras import datasets, models, layers\n",
        "import pandas as pd\n",
        "import numpy as np\n",
        "import matplotlib.pyplot as plt\n",
        "%matplotlib inline"
      ],
      "execution_count": null,
      "outputs": []
    },
    {
      "cell_type": "code",
      "metadata": {
        "colab": {
          "base_uri": "https://localhost:8080/"
        },
        "id": "gOk34LhLUvpc",
        "outputId": "b3428bc8-9203-41df-8969-52b5c2f8984f"
      },
      "source": [
        "(X_train, y_train), (X_test, y_test) = datasets.cifar10.load_data()\n",
        "X_train.shape"
      ],
      "execution_count": null,
      "outputs": [
        {
          "output_type": "stream",
          "text": [
            "Downloading data from https://www.cs.toronto.edu/~kriz/cifar-10-python.tar.gz\n",
            "170500096/170498071 [==============================] - 3s 0us/step\n"
          ],
          "name": "stdout"
        },
        {
          "output_type": "execute_result",
          "data": {
            "text/plain": [
              "(50000, 32, 32, 3)"
            ]
          },
          "metadata": {
            "tags": []
          },
          "execution_count": 5
        }
      ]
    },
    {
      "cell_type": "code",
      "metadata": {
        "colab": {
          "base_uri": "https://localhost:8080/"
        },
        "id": "3EodxRGFVGut",
        "outputId": "aaa3ff34-8b41-4c50-c97d-4ed7cc3f4f17"
      },
      "source": [
        "X_test.shape"
      ],
      "execution_count": null,
      "outputs": [
        {
          "output_type": "execute_result",
          "data": {
            "text/plain": [
              "(10000, 32, 32, 3)"
            ]
          },
          "metadata": {
            "tags": []
          },
          "execution_count": 6
        }
      ]
    },
    {
      "cell_type": "code",
      "metadata": {
        "colab": {
          "base_uri": "https://localhost:8080/"
        },
        "id": "Yv7bJoJMWFhi",
        "outputId": "fb1ec19a-fa23-4ea3-a57c-087c08e1ca0f"
      },
      "source": [
        "y_train.shape"
      ],
      "execution_count": null,
      "outputs": [
        {
          "output_type": "execute_result",
          "data": {
            "text/plain": [
              "(50000, 1)"
            ]
          },
          "metadata": {
            "tags": []
          },
          "execution_count": 7
        }
      ]
    },
    {
      "cell_type": "code",
      "metadata": {
        "colab": {
          "base_uri": "https://localhost:8080/"
        },
        "id": "DftuUUJ4WIXl",
        "outputId": "5cf8388d-cd4d-48ff-ad03-430597f651bd"
      },
      "source": [
        "y_train=y_train.reshape(-1,)\n",
        "y_train[:5]"
      ],
      "execution_count": null,
      "outputs": [
        {
          "output_type": "execute_result",
          "data": {
            "text/plain": [
              "array([6, 9, 9, 4, 1], dtype=uint8)"
            ]
          },
          "metadata": {
            "tags": []
          },
          "execution_count": 8
        }
      ]
    },
    {
      "cell_type": "code",
      "metadata": {
        "colab": {
          "base_uri": "https://localhost:8080/"
        },
        "id": "-vGnPjSjWgMF",
        "outputId": "32c813b1-fef6-4781-82b0-b19c353f574b"
      },
      "source": [
        "y_test=y_test.reshape(-1,)\n",
        "y_test.shape"
      ],
      "execution_count": null,
      "outputs": [
        {
          "output_type": "execute_result",
          "data": {
            "text/plain": [
              "(10000,)"
            ]
          },
          "metadata": {
            "tags": []
          },
          "execution_count": 9
        }
      ]
    },
    {
      "cell_type": "code",
      "metadata": {
        "id": "bsX160IwXnPx"
      },
      "source": [
        "classes = [\"airplane\",\"automobile\",\"bird\",\"cat\",\"deer\",\"dog\",\"frog\",\"horse\",\"ship\",\"truck\"]"
      ],
      "execution_count": null,
      "outputs": []
    },
    {
      "cell_type": "code",
      "metadata": {
        "id": "Np5XY8U6VKj2"
      },
      "source": [
        "def plot(x, y, index):\n",
        "  plt.figure(figsize=(15,2))\n",
        "  plt.imshow(x[index])\n",
        "  plt.xlabel(classes[y[index]])"
      ],
      "execution_count": null,
      "outputs": []
    },
    {
      "cell_type": "code",
      "metadata": {
        "colab": {
          "base_uri": "https://localhost:8080/",
          "height": 173
        },
        "id": "1skeSaPMVkoC",
        "outputId": "6df3a594-5c84-4eb3-d50e-64331807683a"
      },
      "source": [
        "plot(X_train, y_train, 5)"
      ],
      "execution_count": null,
      "outputs": [
        {
          "output_type": "display_data",
          "data": {
            "image/png": "[encoded data removed]",
            "text/plain": [
              "<Figure size 1080x144 with 1 Axes>"
            ]
          },
          "metadata": {
            "tags": []
          }
        }
      ]
    },
    {
      "cell_type": "code",
      "metadata": {
        "colab": {
          "base_uri": "https://localhost:8080/",
          "height": 173
        },
        "id": "eIfDkysYXsZD",
        "outputId": "5e5afd32-d25f-453f-d393-ed8f3c1edc34"
      },
      "source": [
        "plot(X_train,y_test, 19)"
      ],
      "execution_count": null,
      "outputs": [
        {
          "output_type": "display_data",
          "data": {
            "image/png": "[encoded data removed]",
            "text/plain": [
              "<Figure size 1080x144 with 1 Axes>"
            ]
          },
          "metadata": {
            "tags": []
          }
        }
      ]
    },
    {
      "cell_type": "code",
      "metadata": {
        "id": "fp9hNAo7VXM3"
      },
      "source": [
        "# Normalization: Image has 3 channels(R,G,B) and each value in the channel can range from 0 to 255. Hence, to normalize to 0->1, it needs to be divided by 255"
      ],
      "execution_count": null,
      "outputs": []
    },
    {
      "cell_type": "code",
      "metadata": {
        "id": "DbQK-L3oYbCo"
      },
      "source": [
        "X_train = X_train/255.0\n",
        "X_test = X_test/255.0"
      ],
      "execution_count": null,
      "outputs": []
    },
    {
      "cell_type": "code",
      "metadata": {
        "id": "w1nVZzDXYk9c"
      },
      "source": [
        "# Artificial Neural network for Image Classification"
      ],
      "execution_count": null,
      "outputs": []
    },
    {
      "cell_type": "code",
      "metadata": {
        "id": "Q8BmN0jTYsRF"
      },
      "source": [
        "ann = models.Sequential([\n",
        "                layers.Flatten(input_shape = (32,32,3)),\n",
        "                layers.Dense(3000, activation='relu'),\n",
        "                layers.Dense(1000, activation='relu'),\n",
        "                layers.Dense(10, activation = 'sigmoid')\n",
        "                ])"
      ],
      "execution_count": null,
      "outputs": []
    },
    {
      "cell_type": "code",
      "metadata": {
        "id": "rHRvTkrkernO"
      },
      "source": [
        "ann.compile(optimizer = 'SGD',\n",
        "            loss = 'sparse_categorical_crossentropy',\n",
        "            metrics = ['accuracy'])"
      ],
      "execution_count": null,
      "outputs": []
    },
    {
      "cell_type": "code",
      "metadata": {
        "colab": {
          "base_uri": "https://localhost:8080/"
        },
        "id": "QuEj0jHqfAlg",
        "outputId": "990792ff-166a-4f81-9676-f2be08541387"
      },
      "source": [
        "ann.fit(X_train, y_train, epochs = 5)"
      ],
      "execution_count": null,
      "outputs": [
        {
          "output_type": "stream",
          "text": [
            "Epoch 1/5\n",
            "1563/1563 [==============================] - 8s 3ms/step - loss: 1.9380 - accuracy: 0.2994\n",
            "Epoch 2/5\n",
            "1563/1563 [==============================] - 5s 3ms/step - loss: 1.6419 - accuracy: 0.4214\n",
            "Epoch 3/5\n",
            "1563/1563 [==============================] - 5s 3ms/step - loss: 1.5581 - accuracy: 0.4509\n",
            "Epoch 4/5\n",
            "1563/1563 [==============================] - 5s 3ms/step - loss: 1.4919 - accuracy: 0.4737\n",
            "Epoch 5/5\n",
            "1563/1563 [==============================] - 5s 3ms/step - loss: 1.4355 - accuracy: 0.4962\n"
          ],
          "name": "stdout"
        },
        {
          "output_type": "execute_result",
          "data": {
            "text/plain": [
              "<tensorflow.python.keras.callbacks.History at 0x7fa427436ad0>"
            ]
          },
          "metadata": {
            "tags": []
          },
          "execution_count": 19
        }
      ]
    },
    {
      "cell_type": "code",
      "metadata": {
        "colab": {
          "base_uri": "https://localhost:8080/"
        },
        "id": "-s3htulsfG78",
        "outputId": "343708e1-e1e2-49de-ddc6-c6d50be37a3f"
      },
      "source": [
        "from sklearn.metrics import confusion_matrix, classification_report\n",
        "y_predict = ann.predict(X_test)\n",
        "y_prediction_classes = [np.argmax(element) for element in y_predict]\n",
        "\n",
        "print(\"Classification report: \\n\", classification_report(y_test, y_prediction_classes))"
      ],
      "execution_count": null,
      "outputs": [
        {
          "output_type": "stream",
          "text": [
            "Classification report: \n",
            "               precision    recall  f1-score   support\n",
            "\n",
            "           0       0.49      0.48      0.49      1000\n",
            "           1       0.66      0.44      0.53      1000\n",
            "           2       0.49      0.14      0.21      1000\n",
            "           3       0.31      0.39      0.34      1000\n",
            "           4       0.56      0.26      0.35      1000\n",
            "           5       0.42      0.34      0.38      1000\n",
            "           6       0.48      0.61      0.54      1000\n",
            "           7       0.49      0.61      0.54      1000\n",
            "           8       0.34      0.86      0.49      1000\n",
            "           9       0.67      0.32      0.43      1000\n",
            "\n",
            "    accuracy                           0.44     10000\n",
            "   macro avg       0.49      0.44      0.43     10000\n",
            "weighted avg       0.49      0.44      0.43     10000\n",
            "\n"
          ],
          "name": "stdout"
        }
      ]
    },
    {
      "cell_type": "code",
      "metadata": {
        "id": "X3qKBf92iQ2j"
      },
      "source": [
        "# Convolution Neural Network to train images"
      ],
      "execution_count": null,
      "outputs": []
    },
    {
      "cell_type": "code",
      "metadata": {
        "id": "Qf4THYdIiRfu"
      },
      "source": [
        "cnn = models.Sequential([\n",
        "              layers.Conv2D(filters=32, kernel_size=(3,3), activation='relu', input_shape = (32,32,3)),\n",
        "              layers.MaxPooling2D((2,2)),\n",
        "              layers.Conv2D(filters=64, kernel_size=(3, 3), activation='relu'),\n",
        "              layers.MaxPooling2D((2, 2)), \n",
        "              layers.Flatten(),\n",
        "              layers.Dense(64, activation='relu'),\n",
        "              layers.Dense(10, activation='softmax')             \n",
        "])"
      ],
      "execution_count": null,
      "outputs": []
    },
    {
      "cell_type": "code",
      "metadata": {
        "id": "6i5Fv3ULiinV"
      },
      "source": [
        "cnn.compile(optimizer='adam',\n",
        "            loss = 'sparse_categorical_crossentropy',\n",
        "            metrics = ['accuracy'])"
      ],
      "execution_count": null,
      "outputs": []
    },
    {
      "cell_type": "code",
      "metadata": {
        "colab": {
          "background_save": true,
          "base_uri": "https://localhost:8080/"
        },
        "id": "SzJsBK2Hi0cm",
        "outputId": "867b186d-13f4-47f0-e082-03dac2227473"
      },
      "source": [
        "cnn.fit(X_train,y_train, epochs = 10)"
      ],
      "execution_count": null,
      "outputs": [
        {
          "output_type": "stream",
          "text": [
            "Epoch 1/10\n",
            "1563/1563 [==============================] - 60s 38ms/step - loss: 1.7375 - accuracy: 0.3703\n",
            "Epoch 2/10\n",
            "1563/1563 [==============================] - 59s 38ms/step - loss: 1.1883 - accuracy: 0.5833\n",
            "Epoch 3/10\n",
            "1563/1563 [==============================] - 58s 37ms/step - loss: 1.0281 - accuracy: 0.6422\n",
            "Epoch 4/10\n",
            "1563/1563 [==============================] - 59s 37ms/step - loss: 0.9374 - accuracy: 0.6734\n",
            "Epoch 5/10\n",
            "1563/1563 [==============================] - 60s 38ms/step - loss: 0.8615 - accuracy: 0.6983\n",
            "Epoch 6/10\n",
            "1563/1563 [==============================] - 60s 38ms/step - loss: 0.8067 - accuracy: 0.7176\n",
            "Epoch 7/10\n",
            "1563/1563 [==============================] - 60s 38ms/step - loss: 0.7702 - accuracy: 0.7292\n",
            "Epoch 8/10\n",
            "1563/1563 [==============================] - 60s 38ms/step - loss: 0.7247 - accuracy: 0.7466\n",
            "Epoch 9/10\n",
            "1563/1563 [==============================] - 65s 42ms/step - loss: 0.6973 - accuracy: 0.7547\n",
            "Epoch 10/10\n",
            "1563/1563 [==============================] - 61s 39ms/step - loss: 0.6543 - accuracy: 0.7735\n"
          ],
          "name": "stdout"
        },
        {
          "output_type": "execute_result",
          "data": {
            "text/plain": [
              "<tensorflow.python.keras.callbacks.History at 0x7f6f5ac1d2d0>"
            ]
          },
          "metadata": {
            "tags": []
          },
          "execution_count": 0
        }
      ]
    },
    {
      "cell_type": "code",
      "metadata": {
        "colab": {
          "base_uri": "https://localhost:8080/"
        },
        "id": "cBKa9mvVj6mG",
        "outputId": "28ce7b95-e679-45d9-85e5-3251c0ba9105"
      },
      "source": [
        "cnn.evaluate(X_test, y_test)"
      ],
      "execution_count": null,
      "outputs": [
        {
          "output_type": "stream",
          "text": [
            "313/313 [==============================] - 1s 2ms/step - loss: 0.9122 - accuracy: 0.7015\n"
          ],
          "name": "stdout"
        },
        {
          "output_type": "execute_result",
          "data": {
            "text/plain": [
              "[0.9121640920639038, 0.7014999985694885]"
            ]
          },
          "metadata": {
            "tags": []
          },
          "execution_count": 36
        }
      ]
    },
    {
      "cell_type": "code",
      "metadata": {
        "colab": {
          "base_uri": "https://localhost:8080/"
        },
        "id": "S2PgJZQ3kMP0",
        "outputId": "a7079a1e-50fe-467f-f088-93c12329186a"
      },
      "source": [
        "y_prediction = cnn.predict(X_test)\n",
        "y_prediction[:5]"
      ],
      "execution_count": null,
      "outputs": [
        {
          "output_type": "execute_result",
          "data": {
            "text/plain": [
              "array([[8.7173670e-05, 1.7303818e-04, 6.4631960e-05, 9.5016974e-01,\n",
              "        3.7584009e-04, 4.5030851e-02, 1.5308695e-03, 1.0791559e-05,\n",
              "        2.4477402e-03, 1.0928483e-04],\n",
              "       [1.0085192e-01, 1.2327604e-02, 1.5823229e-04, 6.2220552e-06,\n",
              "        9.8661831e-06, 2.0969378e-07, 4.1166101e-07, 1.8699207e-07,\n",
              "        8.8380343e-01, 2.8419611e-03],\n",
              "       [4.8523316e-01, 1.0400181e-01, 8.0020875e-03, 1.7881762e-02,\n",
              "        3.0792921e-03, 2.4135779e-03, 3.5021298e-03, 8.3173048e-03,\n",
              "        2.5581607e-01, 1.1175286e-01],\n",
              "       [8.5869443e-01, 3.0641861e-03, 3.0363832e-02, 2.2512763e-03,\n",
              "        1.0962619e-02, 1.8520822e-04, 4.7376016e-04, 7.3636784e-06,\n",
              "        9.1655731e-02, 2.3415908e-03],\n",
              "       [7.9474671e-07, 1.0792893e-05, 6.2024049e-03, 2.1442588e-01,\n",
              "        4.4372651e-01, 2.6811464e-02, 3.0881077e-01, 6.7868655e-06,\n",
              "        4.3987275e-06, 2.0251056e-07]], dtype=float32)"
            ]
          },
          "metadata": {
            "tags": []
          },
          "execution_count": 37
        }
      ]
    },
    {
      "cell_type": "code",
      "metadata": {
        "colab": {
          "base_uri": "https://localhost:8080/"
        },
        "id": "MDMYp00skv_7",
        "outputId": "bf25b879-142d-4916-c766-8022e98993a7"
      },
      "source": [
        "y_classes = [np.argmax(element) for element in y_predict]\n",
        "y_classes[:5]"
      ],
      "execution_count": 43,
      "outputs": [
        {
          "output_type": "execute_result",
          "data": {
            "text/plain": [
              "[3, 8, 8, 8, 4]"
            ]
          },
          "metadata": {
            "tags": []
          },
          "execution_count": 43
        }
      ]
    },
    {
      "cell_type": "code",
      "metadata": {
        "colab": {
          "base_uri": "https://localhost:8080/"
        },
        "id": "kxlr1Cuak73n",
        "outputId": "1c369a74-3758-43ec-8578-418682c1d5f0"
      },
      "source": [
        "y_test[:5]"
      ],
      "execution_count": 44,
      "outputs": [
        {
          "output_type": "execute_result",
          "data": {
            "text/plain": [
              "array([3, 8, 8, 0, 6], dtype=uint8)"
            ]
          },
          "metadata": {
            "tags": []
          },
          "execution_count": 44
        }
      ]
    },
    {
      "cell_type": "code",
      "metadata": {
        "colab": {
          "base_uri": "https://localhost:8080/",
          "height": 173
        },
        "id": "HT90vnUhlBVT",
        "outputId": "2469b72c-77a4-40a0-c19b-9b53b561287d"
      },
      "source": [
        "plot(X_test, y_test,5)"
      ],
      "execution_count": 47,
      "outputs": [
        {
          "output_type": "display_data",
          "data": {
            "image/png": "[encoded data removed]",
            "text/plain": [
              "<Figure size 1080x144 with 1 Axes>"
            ]
          },
          "metadata": {
            "tags": [],
            "needs_background": "light"
          }
        }
      ]
    },
    {
      "cell_type": "code",
      "metadata": {
        "colab": {
          "base_uri": "https://localhost:8080/",
          "height": 35
        },
        "id": "1I1w6o62lP93",
        "outputId": "47bf25c1-4d4d-4768-86f4-10295dc05dac"
      },
      "source": [
        "classes[y_classes[5]]"
      ],
      "execution_count": 48,
      "outputs": [
        {
          "output_type": "execute_result",
          "data": {
            "application/vnd.google.colaboratory.intrinsic+json": {
              "type": "string"
            },
            "text/plain": [
              "'frog'"
            ]
          },
          "metadata": {
            "tags": []
          },
          "execution_count": 48
        }
      ]
    }
  ]
}